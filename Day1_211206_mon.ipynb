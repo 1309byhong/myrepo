{
  "nbformat": 4,
  "nbformat_minor": 0,
  "metadata": {
    "colab": {
      "name": "Day1_211206_mon.ipynb",
      "provenance": [],
      "authorship_tag": "ABX9TyO2f+hpKavSqAGrycFaTuvD",
      "include_colab_link": true
    },
    "kernelspec": {
      "name": "python3",
      "display_name": "Python 3"
    },
    "language_info": {
      "name": "python"
    }
  },
  "cells": [
    {
      "cell_type": "markdown",
      "metadata": {
        "id": "view-in-github",
        "colab_type": "text"
      },
      "source": [
        "<a href=\"https://colab.research.google.com/github/1309byhong/myrepo/blob/main/Day1_211206_mon.ipynb\" target=\"_parent\"><img src=\"https://colab.research.google.com/assets/colab-badge.svg\" alt=\"Open In Colab\"/></a>"
      ]
    },
    {
      "cell_type": "code",
      "metadata": {
        "colab": {
          "base_uri": "https://localhost:8080/"
        },
        "id": "oIq6x8pp2gsy",
        "outputId": "0b35962d-6518-403d-b1a0-6ba8a7793953"
      },
      "source": [
        "name = \"boram\"\n",
        "print(name)\n",
        "num = 123\n",
        "print(num)"
      ],
      "execution_count": 2,
      "outputs": [
        {
          "output_type": "stream",
          "name": "stdout",
          "text": [
            "boram\n",
            "123\n"
          ]
        }
      ]
    },
    {
      "cell_type": "code",
      "metadata": {
        "colab": {
          "base_uri": "https://localhost:8080/"
        },
        "id": "ITXU7A1f2sCe",
        "outputId": "dd5978b5-7e83-4fb8-92fe-ac9745327a9e"
      },
      "source": [
        "abc = \"abc\"\n",
        "abc_123 = 123\n",
        "Abc_123 = 123\n",
        "print(abc)\n",
        "print(abc_123)\n",
        "print(Abc_123)"
      ],
      "execution_count": 4,
      "outputs": [
        {
          "output_type": "stream",
          "name": "stdout",
          "text": [
            "abc\n",
            "123\n",
            "123\n"
          ]
        }
      ]
    },
    {
      "cell_type": "code",
      "metadata": {
        "id": "8l4kgOYH3Tql"
      },
      "source": [
        "#불리언형 자료형"
      ],
      "execution_count": 5,
      "outputs": []
    },
    {
      "cell_type": "code",
      "metadata": {
        "colab": {
          "base_uri": "https://localhost:8080/"
        },
        "id": "4BM0C_dx4kEJ",
        "outputId": "ec24f441-09b8-410c-dcab-565c78d9d41e"
      },
      "source": [
        "b = True\n",
        "print(b)\n",
        "print(type(b))"
      ],
      "execution_count": 7,
      "outputs": [
        {
          "output_type": "stream",
          "name": "stdout",
          "text": [
            "True\n",
            "<class 'bool'>\n"
          ]
        }
      ]
    },
    {
      "cell_type": "code",
      "metadata": {
        "id": "jKtQ2bTV4plj"
      },
      "source": [
        "#정수형 자료형(integer type)"
      ],
      "execution_count": 8,
      "outputs": []
    },
    {
      "cell_type": "code",
      "metadata": {
        "colab": {
          "base_uri": "https://localhost:8080/"
        },
        "id": "25HK2H2e42FK",
        "outputId": "e08f69bb-4835-42e3-fd63-e9682fa4b2b9"
      },
      "source": [
        "i = 10\n",
        "print(i)\n",
        "print(type(i))"
      ],
      "execution_count": 9,
      "outputs": [
        {
          "output_type": "stream",
          "name": "stdout",
          "text": [
            "10\n",
            "<class 'int'>\n"
          ]
        }
      ]
    },
    {
      "cell_type": "code",
      "metadata": {
        "id": "mQAJ-NAr46bs"
      },
      "source": [
        "#2진수(Binary)"
      ],
      "execution_count": 10,
      "outputs": []
    },
    {
      "cell_type": "code",
      "metadata": {
        "colab": {
          "base_uri": "https://localhost:8080/"
        },
        "id": "XsUoZb6z4_MX",
        "outputId": "06822ad3-8dd6-4e58-9052-c32a81495e1b"
      },
      "source": [
        "b = 0b010\n",
        "print(b)\n",
        "print(type(b))"
      ],
      "execution_count": 12,
      "outputs": [
        {
          "output_type": "stream",
          "name": "stdout",
          "text": [
            "2\n",
            "<class 'int'>\n"
          ]
        }
      ]
    },
    {
      "cell_type": "code",
      "metadata": {
        "id": "v4RRziS05CqA"
      },
      "source": [
        "#8진수(octal)"
      ],
      "execution_count": 13,
      "outputs": []
    },
    {
      "cell_type": "code",
      "metadata": {
        "colab": {
          "base_uri": "https://localhost:8080/"
        },
        "id": "4glpkFXV5R2d",
        "outputId": "b307acef-fb0d-408a-c420-31b02e7c766a"
      },
      "source": [
        "o = 0o130\n",
        "print(o)\n",
        "print(type(o))"
      ],
      "execution_count": 14,
      "outputs": [
        {
          "output_type": "stream",
          "name": "stdout",
          "text": [
            "88\n",
            "<class 'int'>\n"
          ]
        }
      ]
    },
    {
      "cell_type": "code",
      "metadata": {
        "colab": {
          "base_uri": "https://localhost:8080/"
        },
        "id": "8le2ARHs5aMQ",
        "outputId": "c058143c-dbbf-45c6-cdb3-ca163bf49a06"
      },
      "source": [
        "h = 0xABC\n",
        "print(h)\n",
        "print(type(h))"
      ],
      "execution_count": 15,
      "outputs": [
        {
          "output_type": "stream",
          "name": "stdout",
          "text": [
            "2748\n",
            "<class 'int'>\n"
          ]
        }
      ]
    },
    {
      "cell_type": "code",
      "metadata": {
        "id": "4c2hXq6z6OC3"
      },
      "source": [
        ""
      ],
      "execution_count": null,
      "outputs": []
    }
  ]
}